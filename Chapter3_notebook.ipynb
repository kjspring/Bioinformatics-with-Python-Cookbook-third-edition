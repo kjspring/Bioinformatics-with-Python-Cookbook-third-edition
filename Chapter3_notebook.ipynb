{
  "cells": [
    {
      "cell_type": "markdown",
      "id": "3040340b-bd0b-4266-a7a6-8b48d9a94625",
      "metadata": {
        "id": "3040340b-bd0b-4266-a7a6-8b48d9a94625"
      },
      "source": [
        "# Python for Bionformatics\n",
        "\n",
        "## Datasets\n",
        "\n",
        "[Click here](Datasets.py) for the datasets used in the book. You only need this if you do not use the notebooks (as the notebooks will take care of the data)\n"
      ]
    },
    {
      "cell_type": "markdown",
      "id": "ee3697db-cdfe-41c2-ae06-8dc1633b5701",
      "metadata": {
        "id": "ee3697db-cdfe-41c2-ae06-8dc1633b5701"
      },
      "source": [
        "## Python and the surrounding software ecology\n",
        "\n",
        "- [Interfacing with R](Chapter01/Interfacing_R.py)\n",
        "- [R Magic](Chapter01/R_magic.py)"
      ]
    },
    {
      "cell_type": "code",
      "source": [
        "#\n",
        "email_address = \"kecinjspring@gmail.com\""
      ],
      "metadata": {
        "id": "olH9z5lARAFu"
      },
      "id": "olH9z5lARAFu",
      "execution_count": 35,
      "outputs": []
    },
    {
      "cell_type": "code",
      "source": [
        "import os\n",
        "\n",
        "# Mount Drive and set the working directory\n",
        "from google.colab import drive\n",
        "drive.mount('/content/drive')\n",
        "\n",
        "# Set working directory\n",
        "working_directory = '/content/drive/MyDrive/DS_Projects/bioinformatics'\n",
        "os.makedirs(working_directory, exist_ok=True)\n",
        "os.chdir(working_directory) # Create the 'data' folder if it doesn't exist\n",
        "\n",
        "# Download the data file Human 1000 Genome Project\n",
        "!wget -nd http://ftp.1000genomes.ebi.ac.uk/vol1/ftp/phase3/20130502.phase3.sequence.index -O sequence.index"
      ],
      "metadata": {
        "colab": {
          "base_uri": "https://localhost:8080/"
        },
        "id": "qTjrQVsZPFU2",
        "outputId": "959cd2b5-3da7-4ca5-d7be-2d52bed5e24b"
      },
      "id": "qTjrQVsZPFU2",
      "execution_count": 1,
      "outputs": [
        {
          "output_type": "stream",
          "name": "stdout",
          "text": [
            "Mounted at /content/drive\n",
            "--2023-09-10 16:27:04--  http://ftp.1000genomes.ebi.ac.uk/vol1/ftp/phase3/20130502.phase3.sequence.index\n",
            "Resolving ftp.1000genomes.ebi.ac.uk (ftp.1000genomes.ebi.ac.uk)... 193.62.193.167\n",
            "Connecting to ftp.1000genomes.ebi.ac.uk (ftp.1000genomes.ebi.ac.uk)|193.62.193.167|:80... connected.\n",
            "HTTP request sent, awaiting response... 200 OK\n",
            "Length: 67057948 (64M)\n",
            "Saving to: ‘sequence.index’\n",
            "\n",
            "sequence.index      100%[===================>]  63.95M  45.2MB/s    in 1.4s    \n",
            "\n",
            "2023-09-10 16:27:06 (45.2 MB/s) - ‘sequence.index’ saved [67057948/67057948]\n",
            "\n"
          ]
        }
      ]
    },
    {
      "cell_type": "code",
      "execution_count": 2,
      "id": "5b2663bc-8efe-4bb0-9ac5-f9e2eb09cc5e",
      "metadata": {
        "colab": {
          "base_uri": "https://localhost:8080/"
        },
        "id": "5b2663bc-8efe-4bb0-9ac5-f9e2eb09cc5e",
        "outputId": "1927cd29-f7c2-495f-a078-1e16556be450"
      },
      "outputs": [
        {
          "output_type": "stream",
          "name": "stdout",
          "text": [
            "Collecting biopython\n",
            "  Downloading biopython-1.81-cp310-cp310-manylinux_2_17_x86_64.manylinux2014_x86_64.whl (3.1 MB)\n",
            "\u001b[2K     \u001b[90m━━━━━━━━━━━━━━━━━━━━━━━━━━━━━━━━━━━━━━━━\u001b[0m \u001b[32m3.1/3.1 MB\u001b[0m \u001b[31m15.0 MB/s\u001b[0m eta \u001b[36m0:00:00\u001b[0m\n",
            "\u001b[?25hRequirement already satisfied: numpy in /usr/local/lib/python3.10/dist-packages (from biopython) (1.23.5)\n",
            "Installing collected packages: biopython\n",
            "Successfully installed biopython-1.81\n"
          ]
        }
      ],
      "source": [
        "# Chapter 3: Next-Generation Sequencing\n",
        "\n",
        "# Install biopython if not already installed\n",
        "!pip install biopython"
      ]
    },
    {
      "cell_type": "code",
      "source": [
        "# Fetch data from NCBI database\n",
        "from Bio import Entrez, SeqIO\n",
        "Entrez.email = 'kevinjspring@gmail.com'"
      ],
      "metadata": {
        "id": "T80D2qzF5Qrl"
      },
      "id": "T80D2qzF5Qrl",
      "execution_count": 3,
      "outputs": []
    },
    {
      "cell_type": "code",
      "source": [
        "# Find the chloroquine resistance transporter (CRT) gene in Plasmodium falciparum\n",
        "\n",
        "handle = Entrez.esearch(db='nucleotide', term='CRT[Gene Name] AND \"Plasmodium falciparum\" [Organism]')\n",
        "\n",
        "rec_list = Entrez.read(handle)\n",
        "\n",
        "if int(rec_list['RetMax']) < int(rec_list['Count']):\n",
        "  handle = Entrez.esearch(db='nucleotide',\n",
        "                          term = 'CRT[Gene Name] AND \"Plasmodium falciparum\" [Organism]',\n",
        "                          retmax=rec_list['Count'])\n",
        "\n",
        "  rec_list = Entrez.read(handle) # Data is stored in Dictionary\n",
        "\n",
        "# Print the total number of records and keys in the dictionary\n",
        "print(rec_list['Count'])\n",
        "for key in rec_list.keys():\n",
        "  print(key)"
      ],
      "metadata": {
        "id": "Tkk9uVeA5rHD",
        "outputId": "02effdd9-d3f2-4d92-b06a-561536ab775f",
        "colab": {
          "base_uri": "https://localhost:8080/"
        }
      },
      "id": "Tkk9uVeA5rHD",
      "execution_count": 10,
      "outputs": [
        {
          "output_type": "stream",
          "name": "stdout",
          "text": [
            "3080\n",
            "Count\n",
            "RetMax\n",
            "RetStart\n",
            "IdList\n",
            "TranslationSet\n",
            "TranslationStack\n",
            "QueryTranslation\n"
          ]
        }
      ]
    },
    {
      "cell_type": "code",
      "source": [
        "# Retrieve all the records\n",
        "id_list = rec_list['IdList']\n",
        "hdl = Entrez.efetch(db='nucleotide', id=id_list, retype='gb')"
      ],
      "metadata": {
        "id": "3zkXZPVg8AIP"
      },
      "id": "3zkXZPVg8AIP",
      "execution_count": 21,
      "outputs": []
    },
    {
      "cell_type": "markdown",
      "source": [
        "Above is not the best strategy. One way to make a more restrictive query is to download just a few at a time and stop when you have found the one you need."
      ],
      "metadata": {
        "id": "cX58CQf39ZTp"
      },
      "id": "cX58CQf39ZTp"
    },
    {
      "cell_type": "code",
      "source": [
        "# Fetch all the records using efetch\n",
        "hdl = Entrez.efetch(db='nucleotide', id=','.join(id_list), rettype='gb', retmode='text')\n",
        "\n",
        "# Parse the records into a list\n",
        "recs = list(SeqIO.parse(hdl, 'gb'))\n",
        "\n",
        "# Find the record with the name 'KM288867'\n",
        "for rec in recs:\n",
        "    if rec.name == 'KM288867':\n",
        "        break\n",
        "\n",
        "print(rec.name)\n",
        "print(rec.description)"
      ],
      "metadata": {
        "id": "VUXEYlz-AL-X",
        "outputId": "d729de1c-7bb7-4372-b948-90eae655f685",
        "colab": {
          "base_uri": "https://localhost:8080/"
        }
      },
      "id": "VUXEYlz-AL-X",
      "execution_count": 24,
      "outputs": [
        {
          "output_type": "stream",
          "name": "stdout",
          "text": [
            "KM288867\n",
            "Plasmodium falciparum clone PF3D7_0709000 chloroquine resistance transporter (CRT) gene, complete cds\n"
          ]
        }
      ]
    },
    {
      "cell_type": "code",
      "source": [
        "# Fetch only the 'KM288867' record using efetch\n",
        "hdl = Entrez.efetch(db='nucleotide', id='KM288867', rettype='gb', retmode='text')\n",
        "\n",
        "# Parse the record\n",
        "rec = SeqIO.read(hdl, 'gb')\n",
        "\n",
        "print(rec.name)\n",
        "print(rec.description)\n"
      ],
      "metadata": {
        "id": "eWZAYVis8E_n",
        "outputId": "1bd9e46c-7af9-47bd-a00f-7363bb7d082c",
        "colab": {
          "base_uri": "https://localhost:8080/"
        }
      },
      "id": "eWZAYVis8E_n",
      "execution_count": 25,
      "outputs": [
        {
          "output_type": "stream",
          "name": "stdout",
          "text": [
            "KM288867\n",
            "Plasmodium falciparum clone PF3D7_0709000 chloroquine resistance transporter (CRT) gene, complete cds\n"
          ]
        }
      ]
    },
    {
      "cell_type": "code",
      "source": [
        "# extract sequence features that contain information such as gene products and exon positions\n",
        "for feature in rec.features:\n",
        "  if feature.type == 'gene':\n",
        "    print(feature.qualifiers['gene'])\n",
        "  elif feature.type == 'exon':\n",
        "    loc = feature.location\n",
        "    print(loc.start, loc.end, loc.strand)\n",
        "  else:\n",
        "    print('not processed:\\n%s' % feature)"
      ],
      "metadata": {
        "id": "GP3BWRZV-i1e",
        "outputId": "58274c3d-9d9a-428e-837b-b32d1bacc86e",
        "colab": {
          "base_uri": "https://localhost:8080/"
        }
      },
      "id": "GP3BWRZV-i1e",
      "execution_count": 26,
      "outputs": [
        {
          "output_type": "stream",
          "name": "stdout",
          "text": [
            "not processed:\n",
            "type: source\n",
            "location: [0:10000](+)\n",
            "qualifiers:\n",
            "    Key: clone, Value: ['PF3D7_0709000']\n",
            "    Key: db_xref, Value: ['taxon:5833']\n",
            "    Key: mol_type, Value: ['genomic DNA']\n",
            "    Key: organism, Value: ['Plasmodium falciparum']\n",
            "\n",
            "['CRT']\n",
            "not processed:\n",
            "type: mRNA\n",
            "location: join{[2751:3543](+), [3720:3989](+), [4168:4341](+), [4513:4646](+), [4799:4871](+), [4994:5070](+), [5166:5249](+), [5376:5427](+), [5564:5621](+), [5769:5862](+), [6055:6100](+), [6247:6302](+), [6471:7598](+)}\n",
            "qualifiers:\n",
            "    Key: gene, Value: ['CRT']\n",
            "    Key: product, Value: ['chloroquine resistance transporter']\n",
            "\n",
            "not processed:\n",
            "type: 5'UTR\n",
            "location: [2751:3452](+)\n",
            "qualifiers:\n",
            "    Key: gene, Value: ['CRT']\n",
            "\n",
            "not processed:\n",
            "type: primer_bind\n",
            "location: [2935:2958](+)\n",
            "qualifiers:\n",
            "\n",
            "not processed:\n",
            "type: primer_bind\n",
            "location: [3094:3121](+)\n",
            "qualifiers:\n",
            "\n",
            "not processed:\n",
            "type: CDS\n",
            "location: join{[3452:3543](+), [3720:3989](+), [4168:4341](+), [4513:4646](+), [4799:4871](+), [4994:5070](+), [5166:5249](+), [5376:5427](+), [5564:5621](+), [5769:5862](+), [6055:6100](+), [6247:6302](+), [6471:6548](+)}\n",
            "qualifiers:\n",
            "    Key: codon_start, Value: ['1']\n",
            "    Key: gene, Value: ['CRT']\n",
            "    Key: product, Value: ['chloroquine resistance transporter']\n",
            "    Key: protein_id, Value: ['AIW62921.1']\n",
            "    Key: translation, Value: ['MKFASKKNNQKNSSKNDERYRELDNLVQEGNGSRLGGGSCLGKCAHVFKLIFKEIKDNIFIYILSIIYLSVCVMNKIFAKRTLNKIGNYSFVTSETHNFICMIMFFIVYSLFGNKKGNSKERHRSFNLQFFAISMLDACSVILAFIGLTRTTGNIQSFVLQLSIPINMFFCFLILRYRYHLYNYLGAVIIVVTIALVEMKLSFETQEENSIIFNLVLISALIPVCFSNMTREIVFKKYKIDILRLNAMVSFFQLFTSCLILPVYTLPFLKQLHLPYNEIWTNIKNGFACLFLGRNTVVENCGLGMAKLCDDCDGAWKTFALFSFFNICDNLITSYIIDKFSTMTYTIVSCIQGPAIAIAYYFKFLAGDVVREPRLLDFVTLFGYLFGSIIYRVGNIILERKKMRNEENEDSEGELTNVDSIITQ']\n",
            "\n",
            "3452 3543 1\n",
            "3720 3989 1\n",
            "4168 4341 1\n",
            "not processed:\n",
            "type: primer_bind\n",
            "location: [4288:4323](-)\n",
            "qualifiers:\n",
            "\n",
            "4513 4646 1\n",
            "4799 4871 1\n",
            "4994 5070 1\n",
            "5166 5249 1\n",
            "5376 5427 1\n",
            "5564 5621 1\n",
            "5769 5862 1\n",
            "6055 6100 1\n",
            "6247 6302 1\n",
            "6471 6548 1\n",
            "not processed:\n",
            "type: 3'UTR\n",
            "location: [6548:7598](+)\n",
            "qualifiers:\n",
            "    Key: gene, Value: ['CRT']\n",
            "\n",
            "not processed:\n",
            "type: primer_bind\n",
            "location: [7833:7856](-)\n",
            "qualifiers:\n",
            "\n"
          ]
        }
      ]
    },
    {
      "cell_type": "code",
      "source": [
        "# Look at the annotations on the record\n",
        "for name, value in rec.annotations.items():\n",
        "  print('%s=%s' % (name, value))"
      ],
      "metadata": {
        "id": "ju9pWyIYDYZS",
        "outputId": "d254c430-6674-42a3-d226-b935f90a0b14",
        "colab": {
          "base_uri": "https://localhost:8080/"
        }
      },
      "id": "ju9pWyIYDYZS",
      "execution_count": 27,
      "outputs": [
        {
          "output_type": "stream",
          "name": "stdout",
          "text": [
            "molecule_type=DNA\n",
            "topology=linear\n",
            "data_file_division=INV\n",
            "date=12-NOV-2014\n",
            "accessions=['KM288867']\n",
            "sequence_version=1\n",
            "keywords=['']\n",
            "source=Plasmodium falciparum (malaria parasite P. falciparum)\n",
            "organism=Plasmodium falciparum\n",
            "taxonomy=['Eukaryota', 'Sar', 'Alveolata', 'Apicomplexa', 'Aconoidasida', 'Haemosporida', 'Plasmodiidae', 'Plasmodium', 'Plasmodium (Laverania)']\n",
            "references=[Reference(title='Versatile control of Plasmodium falciparum gene expression with an inducible protein-RNA interaction', ...), Reference(title='Direct Submission', ...)]\n"
          ]
        }
      ]
    },
    {
      "cell_type": "code",
      "source": [
        "# print part of the sequence and total length\n",
        "print(rec.seq[1:100])\n",
        "print(len(rec.seq))"
      ],
      "metadata": {
        "id": "FQEmNN8NE1oC",
        "outputId": "009c1ca6-d19b-4e75-e08e-77981e3860d0",
        "colab": {
          "base_uri": "https://localhost:8080/"
        }
      },
      "id": "FQEmNN8NE1oC",
      "execution_count": 32,
      "outputs": [
        {
          "output_type": "stream",
          "name": "stdout",
          "text": [
            "TATGTAAAACCAAAATAAATTAAACAGAATTTATTTTTAAAAGATTTATTTGTAACAATATTACCATGATGATTTATTAAAGTAAAATCACCACCTATT\n",
            "10000\n"
          ]
        }
      ]
    },
    {
      "cell_type": "code",
      "source": [
        "# Get reference\n",
        "from Bio import Medline\n",
        "refs = rec.annotations['references']\n",
        "for ref in refs:\n",
        "  print(ref.pubmed_id)"
      ],
      "metadata": {
        "id": "cMHWjvphE8iR",
        "outputId": "08c719ee-4368-447c-9706-ddc09d25d727",
        "colab": {
          "base_uri": "https://localhost:8080/"
        }
      },
      "id": "cMHWjvphE8iR",
      "execution_count": 33,
      "outputs": [
        {
          "output_type": "stream",
          "name": "stdout",
          "text": [
            "25370483\n",
            "\n"
          ]
        }
      ]
    },
    {
      "cell_type": "code",
      "source": [
        "# Performing basic sequence analysis\n",
        "from Bio import Entrez, SeqIO, SeqRecord\n",
        "Entrez.email = email_address\n",
        "\n",
        "# Use the human lactase (LCT) gene for this example\n",
        "hdl = Entrez.efetch(db='nucleotide',\n",
        "                    id = ['NM_002299'],\n",
        "                    rettype='gb') # Lactase gene\n",
        "gb_rec = SeqIO.read(hdl, 'gb')"
      ],
      "metadata": {
        "id": "00oqfJA8E_P4"
      },
      "id": "00oqfJA8E_P4",
      "execution_count": 37,
      "outputs": []
    },
    {
      "cell_type": "code",
      "source": [
        "# Get location of the gene\n",
        "for feature in gb_rec.features:\n",
        "  if feature.type == 'CDS':\n",
        "    location = feature.location # Note translation existing\n",
        "cds = SeqRecord.SeqRecord(gb_rec.seq[location.start:location.end],\n",
        "                          'NM_002299',\n",
        "                          description=\"LCT CDS only\")"
      ],
      "metadata": {
        "id": "XunEJbYmHK53"
      },
      "id": "XunEJbYmHK53",
      "execution_count": 38,
      "outputs": []
    },
    {
      "cell_type": "code",
      "source": [
        "print(cds)"
      ],
      "metadata": {
        "id": "MKCznJNBH8Cx",
        "outputId": "198840c9-4c1e-422a-8b28-e4a0edf05069",
        "colab": {
          "base_uri": "https://localhost:8080/"
        }
      },
      "id": "MKCznJNBH8Cx",
      "execution_count": 42,
      "outputs": [
        {
          "output_type": "stream",
          "name": "stdout",
          "text": [
            "ID: NM_002299\n",
            "Name: <unknown name>\n",
            "Description: LCT CDS only\n",
            "Number of features: 0\n",
            "Seq('ATGGAGCTGTCTTGGCATGTAGTCTTTATTGCCCTGCTAAGTTTTTCATGCTGG...TGA')\n"
          ]
        }
      ]
    },
    {
      "cell_type": "code",
      "source": [
        "# Save file disk\n",
        "with open('example.fasta', 'w') as f:\n",
        "    SeqIO.write([cds], f, 'fasta')\n",
        "    # file will be closed when ending this block\n"
      ],
      "metadata": {
        "id": "S4lXutWwIrdY"
      },
      "id": "S4lXutWwIrdY",
      "execution_count": 47,
      "outputs": []
    },
    {
      "cell_type": "code",
      "source": [],
      "metadata": {
        "id": "Umo4M6usKxWw"
      },
      "id": "Umo4M6usKxWw",
      "execution_count": null,
      "outputs": []
    }
  ],
  "metadata": {
    "kernelspec": {
      "display_name": "",
      "name": ""
    },
    "language_info": {
      "name": ""
    },
    "colab": {
      "provenance": []
    }
  },
  "nbformat": 4,
  "nbformat_minor": 5
}