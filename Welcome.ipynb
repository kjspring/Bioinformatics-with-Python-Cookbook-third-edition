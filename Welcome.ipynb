{
  "cells": [
    {
      "cell_type": "markdown",
      "metadata": {
        "id": "view-in-github",
        "colab_type": "text"
      },
      "source": [
        "<a href=\"https://colab.research.google.com/github/kjspring/Bioinformatics-with-Python-Cookbook-third-edition/blob/main/Welcome.ipynb\" target=\"_parent\"><img src=\"https://colab.research.google.com/assets/colab-badge.svg\" alt=\"Open In Colab\"/></a>"
      ]
    },
    {
      "cell_type": "markdown",
      "id": "3040340b-bd0b-4266-a7a6-8b48d9a94625",
      "metadata": {
        "id": "3040340b-bd0b-4266-a7a6-8b48d9a94625"
      },
      "source": [
        "# Python for Bionformatics\n",
        "\n",
        "## Datasets\n",
        "\n",
        "[Click here](Datasets.py) for the datasets used in the book. You only need this if you do not use the notebooks (as the notebooks will take care of the data)\n"
      ]
    },
    {
      "cell_type": "markdown",
      "id": "ee3697db-cdfe-41c2-ae06-8dc1633b5701",
      "metadata": {
        "id": "ee3697db-cdfe-41c2-ae06-8dc1633b5701"
      },
      "source": [
        "## Python and the surrounding software ecology\n",
        "\n",
        "- [Interfacing with R](Chapter01/Interfacing_R.py)\n",
        "- [R Magic](Chapter01/R_magic.py)"
      ]
    },
    {
      "cell_type": "code",
      "source": [
        "#\n"
      ],
      "metadata": {
        "id": "olH9z5lARAFu"
      },
      "id": "olH9z5lARAFu",
      "execution_count": null,
      "outputs": []
    },
    {
      "cell_type": "code",
      "source": [
        "import os\n",
        "\n",
        "# Mount Drive and set the working directory\n",
        "from google.colab import drive\n",
        "drive.mount('/content/drive')\n",
        "\n",
        "# Set working directory\n",
        "working_directory = '/content/drive/MyDrive/DS_Projects/bioinformatics'\n",
        "os.makedirs(working_directory, exist_ok=True)\n",
        "os.chdir(working_directory) # Create the 'data' folder if it doesn't exist\n",
        "\n",
        "# Download the data file Human 1000 Genome Project\n",
        "!wget -nd http://ftp.1000genomes.ebi.ac.uk/vol1/ftp/phase3/20130502.phase3.sequence.index -O sequence.index"
      ],
      "metadata": {
        "id": "qTjrQVsZPFU2",
        "outputId": "2bd13c5e-b61d-4a69-fc24-9c9ae4d16243",
        "colab": {
          "base_uri": "https://localhost:8080/"
        }
      },
      "id": "qTjrQVsZPFU2",
      "execution_count": 3,
      "outputs": [
        {
          "output_type": "stream",
          "name": "stdout",
          "text": [
            "Drive already mounted at /content/drive; to attempt to forcibly remount, call drive.mount(\"/content/drive\", force_remount=True).\n",
            "--2023-09-09 04:53:47--  http://ftp.1000genomes.ebi.ac.uk/vol1/ftp/phase3/20130502.phase3.sequence.index\n",
            "Resolving ftp.1000genomes.ebi.ac.uk (ftp.1000genomes.ebi.ac.uk)... 193.62.193.167\n",
            "Connecting to ftp.1000genomes.ebi.ac.uk (ftp.1000genomes.ebi.ac.uk)|193.62.193.167|:80... connected.\n",
            "HTTP request sent, awaiting response... 200 OK\n",
            "Length: 67057948 (64M)\n",
            "Saving to: ‘sequence.index’\n",
            "\n",
            "sequence.index      100%[===================>]  63.95M  20.0MB/s    in 3.2s    \n",
            "\n",
            "2023-09-09 04:53:51 (20.0 MB/s) - ‘sequence.index’ saved [67057948/67057948]\n",
            "\n"
          ]
        }
      ]
    },
    {
      "cell_type": "code",
      "execution_count": null,
      "id": "5b2663bc-8efe-4bb0-9ac5-f9e2eb09cc5e",
      "metadata": {
        "id": "5b2663bc-8efe-4bb0-9ac5-f9e2eb09cc5e"
      },
      "outputs": [],
      "source": [
        "# Download the data\n",
        "\n",
        "# !rm sequence.index 2>/dev/null\n",
        "# !wget -nd http://ftp.1000genomes.ebi.ac.uk/vol1/ftp/phase3/20130502.phase3.sequence.index -O sequence.index\n"
      ]
    }
  ],
  "metadata": {
    "kernelspec": {
      "display_name": "",
      "name": ""
    },
    "language_info": {
      "name": ""
    },
    "colab": {
      "provenance": [],
      "include_colab_link": true
    }
  },
  "nbformat": 4,
  "nbformat_minor": 5
}